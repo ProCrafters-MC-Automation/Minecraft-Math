{
  "cells": [
    {
      "cell_type": "markdown",
      "metadata": {
        "id": "view-in-github",
        "colab_type": "text"
      },
      "source": [
        "<a href=\"https://colab.research.google.com/github/ProCrafters-MC-Automation/Minecraft-Math/blob/main/walkingOverGap.ipynb\" target=\"_parent\"><img src=\"https://colab.research.google.com/assets/colab-badge.svg\" alt=\"Open In Colab\"/></a>"
      ]
    },
    {
      "cell_type": "code",
      "execution_count": null,
      "metadata": {
        "id": "KHIaaHVQVTBe"
      },
      "outputs": [],
      "source": [
        "import math\n",
        "import numpy"
      ]
    },
    {
      "cell_type": "code",
      "execution_count": null,
      "metadata": {
        "id": "8z0rf0oSB_Fa"
      },
      "outputs": [],
      "source": [
        "# calculations for crossing singular one block gaps\n",
        "\n",
        "def walking(t):\n",
        "  # Player's speed while walking\n",
        "  if t == 0:\n",
        "    return 0\n",
        "  return walking(t-1) * 0.546 + 0.098\n",
        "\n",
        "def walking45(t):\n",
        "  # Player's speed while holding W and A simultaneously\n",
        "  if t == 0:\n",
        "    return 0\n",
        "  return walking45(t-1) * 0.546 + 0.1\n",
        "\n",
        "def sprinting(t):\n",
        "  # sprinting speed\n",
        "  if t == 0:\n",
        "    return 0\n",
        "  return sprinting(t-1) * 0.546 + 0.1274\n",
        "\n",
        "def sprinting45(t):\n",
        "  # sprinting with W and A\n",
        "  if t == 0:\n",
        "    return 0\n",
        "  return sprinting45(t-1) * 0.546 + 0.13\n",
        "\n",
        "def minimumTicks(method):\n",
        "  # takes a movement method (walking, sprinting45, etc) and return the minimum number of ticks\n",
        "  # before your speed is high enough to cross 1 block gaps\n",
        "  t = 0\n",
        "  dist = 0\n",
        "  while(dist < 0.401):\n",
        "    t += 1\n",
        "    dist = method(t+1) + method(t+2)\n",
        "  return t\n",
        "\n",
        "def difference(method, tick):\n",
        "  # amount of blocks, that you can be off when positioning yourself\n",
        "  dist = method(tick+1) + method(tick+2)\n",
        "  return dist - 0.401\n",
        "\n",
        "\n",
        "def distanceTraveled(method, ticks):\n",
        "  dist = 0\n",
        "  prev = 0\n",
        "  for i in range(ticks):\n",
        "    prev *= 0.546\n",
        "    if method == walking:\n",
        "      prev += 0.098\n",
        "    elif method == walking45:\n",
        "      prev += 0.1\n",
        "    elif method == sprinting:\n",
        "      prev += 0.1274\n",
        "    elif method == sprinting45:\n",
        "      prev += 0.13\n",
        "    dist += prev\n",
        "  return dist\n",
        "\n",
        "def coordinates(method, ticks, negate=False, base=0):\n",
        "  # return the coordinates range, in which if you position yourself and walk directly forward, you will cross the 1 block gap\n",
        "  # can be calculated for any chosen movement method, the tick argument determines the time until you reach the gap\n",
        "  # negate should be set to True if your coordinates decrease as you walk forward (east, south)\n",
        "  first = (distanceTraveled(method, ticks) - 0.3)\n",
        "  second = (first + difference(method, ticks))\n",
        "  if not negate:\n",
        "    first = 1 - first\n",
        "    second = 1 - second\n",
        "    first = math.floor(first * 1000) / 1000 + base\n",
        "    second = math.floor(second * 1000) / 1000 + base\n",
        "    return (str(second) + ' to ' + str(first))\n",
        "  first = math.ceil(first * 1000) / 1000 + base\n",
        "  second = math.ceil(second * 1000) / 1000 + base\n",
        "  return (str(first) + ' to ' + str(second))\n",
        "\n",
        "def getCoordinatesUpTo(method, ticks, negate=False, base=0):\n",
        "  # works like coordinates(), but returns more values\n",
        "  for i in range(minimumTicks(walking), ticks):\n",
        "    print(coordinates(method, i, negate, base))\n"
      ]
    },
    {
      "cell_type": "code",
      "execution_count": null,
      "metadata": {
        "colab": {
          "base_uri": "https://localhost:8080/"
        },
        "id": "dbTX0Ve6KDxX",
        "outputId": "78c8962e-f6ef-4482-8d3f-a21e91d94ace"
      },
      "outputs": [
        {
          "output_type": "stream",
          "name": "stdout",
          "text": [
            "0.19667495892800002 0.205384527574688\n",
            "0.21585783403288072\n",
            "0.1274\n",
            "0.19696040000000004\n"
          ]
        }
      ],
      "source": [
        "print(walking(4), walking(5))\n",
        "print(walking(20))\n",
        "print(sprinting(1))\n",
        "print(sprinting(2))"
      ]
    },
    {
      "cell_type": "code",
      "execution_count": null,
      "metadata": {
        "colab": {
          "base_uri": "https://localhost:8080/"
        },
        "id": "L5qfRmuSuaIx",
        "outputId": "849d1e28-f445-45e2-afac-809a100ce875"
      },
      "outputs": [
        {
          "output_type": "stream",
          "name": "stdout",
          "text": [
            "3\n",
            "3\n",
            "1\n",
            "1\n"
          ]
        }
      ],
      "source": [
        "print(minimumTicks(walking))\n",
        "print(minimumTicks(walking45))\n",
        "print(minimumTicks(sprinting))\n",
        "print(minimumTicks(sprinting45))"
      ]
    },
    {
      "cell_type": "code",
      "execution_count": null,
      "metadata": {
        "colab": {
          "base_uri": "https://localhost:8080/"
        },
        "id": "MDqB4dVUux8h",
        "outputId": "80eb5941-5d26-4e95-b759-57084c56cb09"
      },
      "outputs": [
        {
          "output_type": "stream",
          "name": "stdout",
          "text": [
            "0.533 to 0.555\n",
            "0.851 to 0.86\n",
            "1.141 to 1.172\n",
            "1.13 to 1.17\n"
          ]
        }
      ],
      "source": [
        "print(coordinates(walking, 5, True))\n",
        "print(coordinates(walking45, 3))\n",
        "print(coordinates(sprinting, 1))\n",
        "print(coordinates(sprinting45, 1))"
      ]
    },
    {
      "cell_type": "code",
      "execution_count": null,
      "metadata": {
        "colab": {
          "base_uri": "https://localhost:8080/"
        },
        "id": "TwJ51h8Zw4nv",
        "outputId": "5fc00c6a-4358-4e9d-8dc3-8ceceeddd50f"
      },
      "outputs": [
        {
          "output_type": "stream",
          "name": "stdout",
          "text": [
            "0.131 to 0.132\n",
            "0.14 to 0.149\n",
            "1.828 to 1.859\n",
            "1.831 to 1.87\n"
          ]
        }
      ],
      "source": [
        "print(coordinates(walking, 3, True))\n",
        "print(coordinates(walking45, 3, True))\n",
        "print(coordinates(sprinting, 1, True, 2))\n",
        "print(coordinates(sprinting45, 1, True, 2))"
      ]
    },
    {
      "cell_type": "code",
      "execution_count": null,
      "metadata": {
        "colab": {
          "base_uri": "https://localhost:8080/"
        },
        "id": "VwupcQcFz3_t",
        "outputId": "15e17fd5-ab89-4030-c801-52951afd4fb1"
      },
      "outputs": [
        {
          "output_type": "stream",
          "name": "stdout",
          "text": [
            "0.26 to 0.381\n",
            "0.515 to 0.655\n",
            "0.782 to 0.931\n",
            "1.056 to 1.21\n",
            "1.332 to 1.489\n",
            "1.611 to 1.769\n",
            "1.89 to 2.049\n",
            "2.17 to 2.33\n",
            "2.45 to 2.61\n",
            "2.731 to 2.891\n",
            "3.011 to 3.171\n",
            "3.292 to 3.452\n",
            "3.572 to 3.733\n",
            "3.853 to 4.013\n",
            "4.134 to 4.294\n",
            "4.414 to 4.574\n",
            "4.695 to 4.855\n"
          ]
        }
      ],
      "source": [
        "getCoordinatesUpTo(sprinting, 20, True)"
      ]
    },
    {
      "cell_type": "code",
      "execution_count": null,
      "metadata": {
        "colab": {
          "base_uri": "https://localhost:8080/"
        },
        "id": "TyXorzNb3zRh",
        "outputId": "d0950a8a-bc42-4154-8dc3-e997a36d4d6a"
      },
      "outputs": [
        {
          "output_type": "stream",
          "name": "stdout",
          "text": [
            "152.131 to 152.132\n",
            "152.327 to 152.342\n",
            "152.533 to 152.555\n",
            "152.743 to 152.769\n",
            "152.956 to 152.984\n",
            "153.17 to 153.199\n",
            "153.385 to 153.415\n",
            "153.6 to 153.63\n",
            "153.816 to 153.846\n",
            "154.031 to 154.062\n",
            "154.247 to 154.278\n",
            "154.463 to 154.494\n",
            "154.679 to 154.71\n",
            "154.895 to 154.925\n",
            "155.111 to 155.141\n",
            "155.326 to 155.357\n",
            "155.542 to 155.573\n"
          ]
        }
      ],
      "source": [
        "getCoordinatesUpTo(walking, 20, True, 152)"
      ]
    },
    {
      "cell_type": "code",
      "execution_count": null,
      "metadata": {
        "colab": {
          "base_uri": "https://localhost:8080/"
        },
        "id": "DYWcEs7XX7iH",
        "outputId": "65a6cd5c-ccf9-4416-a45e-f3da99fa52b8"
      },
      "outputs": [
        {
          "output_type": "stream",
          "name": "stdout",
          "text": [
            "151.131 to 151.132\n",
            "151.327 to 151.342\n",
            "151.533 to 151.555\n",
            "151.743 to 151.769\n",
            "151.956 to 151.984\n",
            "152.17 to 152.199\n",
            "152.385 to 152.415\n"
          ]
        }
      ],
      "source": [
        "getCoordinatesUpTo(walking, 10, negate=True, base=151)"
      ]
    },
    {
      "cell_type": "code",
      "execution_count": null,
      "metadata": {
        "colab": {
          "base_uri": "https://localhost:8080/"
        },
        "id": "9hlRBaA7FHTG",
        "outputId": "9fdb9b95-643f-48f9-8ae1-262c1da782e8"
      },
      "outputs": [
        {
          "output_type": "stream",
          "name": "stdout",
          "text": [
            "150.596 to 150.729\n",
            "150.318 to 150.468\n",
            "150.035 to 150.195\n",
            "149.751 to 149.917\n",
            "149.466 to 149.634\n",
            "149.181 to 149.35\n",
            "148.895 to 149.065\n"
          ]
        }
      ],
      "source": [
        "getCoordinatesUpTo(sprinting45, 10, negate=False, base=150)"
      ]
    },
    {
      "cell_type": "code",
      "execution_count": null,
      "metadata": {
        "id": "3oi1X2Y2IymU"
      },
      "outputs": [],
      "source": [
        "# calculations for crossing a lot of consecutive 1 block gaps\n",
        "def findAngle(speed=0.250, method=sprinting):\n",
        "  # angles required to run without ever falling\n",
        "  base = method(40)\n",
        "  ratio = speed/base\n",
        "  if ratio > 1:\n",
        "    print('too fast')\n",
        "  numpy.arccos(ratio)\n",
        "  print(numpy.degrees(numpy.arccos(ratio)))\n",
        "\n",
        "\n",
        "def findPos(method=sprinting, angle=27.014, negate=False):\n",
        "  # starting position required to run without ever falling\n",
        "  dist = 0\n",
        "  prev = 0\n",
        "  for i in range(20):\n",
        "    prev *= 0.546\n",
        "    if method == walking:\n",
        "      prev += 0.098 * math.cos(math.radians(angle))\n",
        "    elif method == walking45:\n",
        "      prev += 0.1 * math.cos(math.radians(angle))\n",
        "    elif method == sprinting:\n",
        "      prev += 0.1274 * math.cos(math.radians(angle))\n",
        "    elif method == sprinting45:\n",
        "      prev += 0.13 * math.cos(math.radians(angle))\n",
        "    dist += prev\n",
        "  first = math.floor(((5 - dist + 0.3) if negate else (dist - 0.3)) * 1000) / 1000\n",
        "  return str(math.floor((first - 0.04) * 1000) / 1000) + ' to ' + str(first)\n",
        "\n",
        "def runLong(display):\n",
        "  # for sprinting at a 45 degree angle, shows the starting position and how many blocks you will travel from that position\n",
        "  # works for consecutive 1 block gaps\n",
        "  # argument can determine from how good of values you want to display\n",
        "  for i in range(5000):\n",
        "    dist = (i / 1000) - 5\n",
        "    prev = 0\n",
        "    blocksTraveled = 0\n",
        "    while(True):\n",
        "      prev *= 0.546\n",
        "      prev += 0.13\n",
        "      dist += prev\n",
        "      blocksTraveled = max(math.floor(dist), -1)\n",
        "      if (blocksTraveled % 2 == 0) and ((dist - blocksTraveled) > 0.3) and ((dist - blocksTraveled) < 0.7):\n",
        "        prev *= 0.546\n",
        "        prev += 0.13\n",
        "        dist += prev\n",
        "        blocksTraveled = max(math.floor(dist), -1)\n",
        "        if ((dist - blocksTraveled) > 0.3) and ((dist - blocksTraveled) < 0.7):\n",
        "          if blocksTraveled >= display:\n",
        "            print(f\"{(5000 - i) / 1000} blocksTraveled: {blocksTraveled}\")\n",
        "          break\n",
        "  return\n",
        "\n"
      ]
    },
    {
      "cell_type": "code",
      "execution_count": null,
      "metadata": {
        "colab": {
          "base_uri": "https://localhost:8080/"
        },
        "id": "1P_Ff_p79-2e",
        "outputId": "74ff91fc-8db6-4618-d3e4-6b5c9377a15d"
      },
      "outputs": [
        {
          "output_type": "stream",
          "name": "stdout",
          "text": [
            "4.968 blocksTraveled: 80\n",
            "4.682 blocksTraveled: 80\n",
            "4.396 blocksTraveled: 80\n",
            "4.109 blocksTraveled: 80\n",
            "3.823 blocksTraveled: 80\n",
            "3.537 blocksTraveled: 80\n",
            "3.25 blocksTraveled: 80\n",
            "2.964 blocksTraveled: 80\n",
            "2.678 blocksTraveled: 80\n",
            "2.391 blocksTraveled: 80\n",
            "2.105 blocksTraveled: 80\n",
            "1.819 blocksTraveled: 80\n",
            "1.534 blocksTraveled: 80\n",
            "1.533 blocksTraveled: 80\n",
            "1.532 blocksTraveled: 80\n",
            "1.249 blocksTraveled: 80\n",
            "1.248 blocksTraveled: 80\n",
            "1.247 blocksTraveled: 80\n",
            "1.246 blocksTraveled: 80\n",
            "0.964 blocksTraveled: 82\n",
            "0.963 blocksTraveled: 80\n",
            "0.962 blocksTraveled: 80\n",
            "0.961 blocksTraveled: 80\n",
            "0.96 blocksTraveled: 80\n",
            "0.678 blocksTraveled: 82\n",
            "0.677 blocksTraveled: 80\n",
            "0.676 blocksTraveled: 80\n",
            "0.675 blocksTraveled: 80\n",
            "0.674 blocksTraveled: 80\n",
            "0.673 blocksTraveled: 80\n",
            "0.391 blocksTraveled: 82\n",
            "0.39 blocksTraveled: 80\n",
            "0.389 blocksTraveled: 80\n",
            "0.388 blocksTraveled: 80\n",
            "0.387 blocksTraveled: 80\n",
            "0.105 blocksTraveled: 82\n",
            "0.104 blocksTraveled: 80\n",
            "0.103 blocksTraveled: 80\n",
            "0.102 blocksTraveled: 80\n",
            "0.101 blocksTraveled: 80\n"
          ]
        }
      ],
      "source": [
        "runLong(82) # for sprinting at 45 degrees, displays the starting coordinates and after which block you will fall"
      ]
    },
    {
      "cell_type": "code",
      "execution_count": null,
      "metadata": {
        "colab": {
          "base_uri": "https://localhost:8080/",
          "height": 52
        },
        "id": "CRXzTzJd7xCA",
        "outputId": "f9806723-560a-40b3-c91e-7a5bd2e9ad7f"
      },
      "outputs": [
        {
          "output_type": "stream",
          "name": "stdout",
          "text": [
            "27.014094266374066\n"
          ]
        },
        {
          "output_type": "execute_result",
          "data": {
            "text/plain": [
              "'0.559 to 0.6'"
            ],
            "application/vnd.google.colaboratory.intrinsic+json": {
              "type": "string"
            }
          },
          "metadata": {},
          "execution_count": 65
        }
      ],
      "source": [
        "findAngle() # at this angle, if you run forward, your horizontal movement speed in the X axis will be equal 0.250 making your position cyclic\n",
        "findPos(negate=True) # starting coordinates (on the 5th block backwards) for running endlessly"
      ]
    },
    {
      "cell_type": "code",
      "execution_count": null,
      "metadata": {
        "id": "I4JDt51fFYRs"
      },
      "outputs": [],
      "source": [
        "# Additional tests\n",
        "chainStart = 1.106\n",
        "chainEnd = 0.894\n",
        "gap = chainStart - chainEnd\n",
        "# 0.212\n",
        "\n",
        "def speed2(t):\n",
        "  if t == 0:\n",
        "    return 0\n",
        "  return speed2(t-1) * 0.546 + 0.1274 * 1.4\n",
        "\n",
        "def probabilityOfNotFalling(method):\n",
        "  speed = method(20)\n",
        "  p = 1 - (0.4 - speed) / speed\n",
        "  p = round(p * 10000)\n",
        "  print(f\"probability of crossing a 1 block gap: {p / 100}%\")\n"
      ]
    },
    {
      "cell_type": "code",
      "execution_count": null,
      "metadata": {
        "colab": {
          "base_uri": "https://localhost:8080/"
        },
        "id": "3B7N0JEPz_0h",
        "outputId": "75e6ed29-f7db-41fe-d705-ea478d92bb99"
      },
      "outputs": [
        {
          "output_type": "stream",
          "name": "stdout",
          "text": [
            "probability of crossing a 1 block gap: 14.69%\n",
            "probability of crossing a 1 block gap: 18.4%\n",
            "probability of crossing a 1 block gap: 57.46%\n",
            "probability of crossing a 1 block gap: 60.31%\n",
            "probability of crossing a 1 block gap: 98.18%\n"
          ]
        }
      ],
      "source": [
        "probabilityOfNotFalling(walking)\n",
        "probabilityOfNotFalling(walking45)\n",
        "probabilityOfNotFalling(sprinting)\n",
        "probabilityOfNotFalling(sprinting45)\n",
        "probabilityOfNotFalling(speed2)"
      ]
    },
    {
      "cell_type": "code",
      "execution_count": null,
      "metadata": {
        "colab": {
          "base_uri": "https://localhost:8080/"
        },
        "id": "47RwhSZfNWbE",
        "outputId": "2182e4e6-0380-4843-8f9b-fcddbe63dd29"
      },
      "outputs": [
        {
          "output_type": "stream",
          "name": "stdout",
          "text": [
            "speed 2: 0.3928634361112714 blocks/tick\n"
          ]
        }
      ],
      "source": [
        "print(f\"speed 2: {speed2(40)} blocks/tick\")"
      ]
    },
    {
      "cell_type": "code",
      "source": [
        "print(walking(40))\n",
        "print(walking45(40))\n",
        "print(sprinting(40))\n",
        "print(sprinting45(40))"
      ],
      "metadata": {
        "colab": {
          "base_uri": "https://localhost:8080/"
        },
        "id": "oQhbumAcRBdd",
        "outputId": "2bd96e64-1a9d-4c83-8b5d-989a17169cdf"
      },
      "execution_count": null,
      "outputs": [
        {
          "output_type": "stream",
          "name": "stdout",
          "text": [
            "0.2158590308303689\n",
            "0.22026431717384581\n",
            "0.28061674007947957\n",
            "0.2863436123259996\n"
          ]
        }
      ]
    }
  ],
  "metadata": {
    "colab": {
      "provenance": [],
      "include_colab_link": true
    },
    "kernelspec": {
      "display_name": "Python 3",
      "name": "python3"
    },
    "language_info": {
      "name": "python"
    }
  },
  "nbformat": 4,
  "nbformat_minor": 0
}